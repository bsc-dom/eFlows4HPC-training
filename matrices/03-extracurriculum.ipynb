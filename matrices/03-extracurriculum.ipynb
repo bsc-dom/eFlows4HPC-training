{
 "cells": [
  {
   "cell_type": "markdown",
   "metadata": {},
   "source": [
    "Are you done? Feel free to experiment a little bit more with the tools.\n",
    "\n",
    "## A bigger _matmul_\n",
    "\n",
    "Want to see how the problem grows? You can try to increase the number of nodes and the size of matrices and run it again!\n",
    "\n",
    "Change the `matmul_main.py` and the `run_pycompss.sh` and see how the problem runs. Be aware of growing too much! It's easy to get out of memory errors; and the complexity is $O(n^3)$, so it's easy to end up with very long execution times. For reference, try 8192x8192 matrices on 5 nodes as a good starting point.\n",
    "\n",
    "## A simple _matsum_\n",
    "\n",
    "Do you want to try to add new tasks and methods by yourself? A matrix addition should be easy to do. You can implement the `__sum__` method on the *Matrix* class. You can follow the basic patterns of decorators and annotations already present in the matrix multiplication application. Remember to use the `@task` decorator for PyCOMPSs (probably above a new method on the _Block_ class) as well as `@dclayMethod` in all methods that you add."
   ]
  },
  {
   "cell_type": "code",
   "execution_count": null,
   "metadata": {},
   "outputs": [],
   "source": []
  }
 ],
 "metadata": {
  "language_info": {
   "name": "python",
   "pygments_lexer": "ipython3"
  }
 },
 "nbformat": 4,
 "nbformat_minor": 4
}
